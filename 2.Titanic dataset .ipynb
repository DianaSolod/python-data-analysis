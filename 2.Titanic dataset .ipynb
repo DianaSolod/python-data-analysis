{
 "cells": [
  {
   "cell_type": "markdown",
   "id": "96fc31ed",
   "metadata": {},
   "source": [
    "# Лабораторная работа 2"
   ]
  },
  {
   "cell_type": "markdown",
   "id": "8f2be917",
   "metadata": {},
   "source": [
    "Задача: Используя алгоритмы машинного обучения, создать модели, которые предсказывают какой пассажир выжил после крушения на Титанике.\n",
    "\n",
    "Данные: Обучающая выборка должна быть использована для построения ваших моделей машинного обучения. Для обучающей выборки есть таргет survived.\n",
    "\n",
    "Тестовая выборка таргета не имеет. Она должна использоваться для оценки качества работы ваших моделей на платформе kaggle.com\n",
    "\n",
    "Подробнее о данных: https://www.kaggle.com/competitions/titanic/data"
   ]
  },
  {
   "cell_type": "markdown",
   "id": "5e92b4f8",
   "metadata": {},
   "source": [
    "### 1. Загрузить данные для обучения и теста, найти признаки с пропущенными значениями."
   ]
  },
  {
   "cell_type": "code",
   "execution_count": 257,
   "id": "d5dd5a84",
   "metadata": {},
   "outputs": [],
   "source": [
    "import pandas as pd\n",
    "import matplotlib.pyplot as plt"
   ]
  },
  {
   "cell_type": "code",
   "execution_count": 258,
   "id": "692096c1",
   "metadata": {},
   "outputs": [],
   "source": [
    "train = pd.read_csv('train.csv')\n",
    "test = pd.read_csv('test.csv')"
   ]
  },
  {
   "cell_type": "markdown",
   "id": "67535976",
   "metadata": {},
   "source": [
    "### 2. Проанализировать все признаки. Для каждого признака определить:"
   ]
  },
  {
   "cell_type": "markdown",
   "id": "44cf92cb",
   "metadata": {},
   "source": [
    "Получить основные статистики (describe)"
   ]
  },
  {
   "cell_type": "code",
   "execution_count": 259,
   "id": "06a3ec18",
   "metadata": {},
   "outputs": [
    {
     "data": {
      "text/html": [
       "<div>\n",
       "<style scoped>\n",
       "    .dataframe tbody tr th:only-of-type {\n",
       "        vertical-align: middle;\n",
       "    }\n",
       "\n",
       "    .dataframe tbody tr th {\n",
       "        vertical-align: top;\n",
       "    }\n",
       "\n",
       "    .dataframe thead th {\n",
       "        text-align: right;\n",
       "    }\n",
       "</style>\n",
       "<table border=\"1\" class=\"dataframe\">\n",
       "  <thead>\n",
       "    <tr style=\"text-align: right;\">\n",
       "      <th></th>\n",
       "      <th>PassengerId</th>\n",
       "      <th>Survived</th>\n",
       "      <th>Pclass</th>\n",
       "      <th>Age</th>\n",
       "      <th>SibSp</th>\n",
       "      <th>Parch</th>\n",
       "      <th>Fare</th>\n",
       "    </tr>\n",
       "  </thead>\n",
       "  <tbody>\n",
       "    <tr>\n",
       "      <th>count</th>\n",
       "      <td>891.000000</td>\n",
       "      <td>891.000000</td>\n",
       "      <td>891.000000</td>\n",
       "      <td>714.000000</td>\n",
       "      <td>891.000000</td>\n",
       "      <td>891.000000</td>\n",
       "      <td>891.000000</td>\n",
       "    </tr>\n",
       "    <tr>\n",
       "      <th>mean</th>\n",
       "      <td>446.000000</td>\n",
       "      <td>0.383838</td>\n",
       "      <td>2.308642</td>\n",
       "      <td>29.699118</td>\n",
       "      <td>0.523008</td>\n",
       "      <td>0.381594</td>\n",
       "      <td>32.204208</td>\n",
       "    </tr>\n",
       "    <tr>\n",
       "      <th>std</th>\n",
       "      <td>257.353842</td>\n",
       "      <td>0.486592</td>\n",
       "      <td>0.836071</td>\n",
       "      <td>14.526497</td>\n",
       "      <td>1.102743</td>\n",
       "      <td>0.806057</td>\n",
       "      <td>49.693429</td>\n",
       "    </tr>\n",
       "    <tr>\n",
       "      <th>min</th>\n",
       "      <td>1.000000</td>\n",
       "      <td>0.000000</td>\n",
       "      <td>1.000000</td>\n",
       "      <td>0.420000</td>\n",
       "      <td>0.000000</td>\n",
       "      <td>0.000000</td>\n",
       "      <td>0.000000</td>\n",
       "    </tr>\n",
       "    <tr>\n",
       "      <th>25%</th>\n",
       "      <td>223.500000</td>\n",
       "      <td>0.000000</td>\n",
       "      <td>2.000000</td>\n",
       "      <td>20.125000</td>\n",
       "      <td>0.000000</td>\n",
       "      <td>0.000000</td>\n",
       "      <td>7.910400</td>\n",
       "    </tr>\n",
       "    <tr>\n",
       "      <th>50%</th>\n",
       "      <td>446.000000</td>\n",
       "      <td>0.000000</td>\n",
       "      <td>3.000000</td>\n",
       "      <td>28.000000</td>\n",
       "      <td>0.000000</td>\n",
       "      <td>0.000000</td>\n",
       "      <td>14.454200</td>\n",
       "    </tr>\n",
       "    <tr>\n",
       "      <th>75%</th>\n",
       "      <td>668.500000</td>\n",
       "      <td>1.000000</td>\n",
       "      <td>3.000000</td>\n",
       "      <td>38.000000</td>\n",
       "      <td>1.000000</td>\n",
       "      <td>0.000000</td>\n",
       "      <td>31.000000</td>\n",
       "    </tr>\n",
       "    <tr>\n",
       "      <th>max</th>\n",
       "      <td>891.000000</td>\n",
       "      <td>1.000000</td>\n",
       "      <td>3.000000</td>\n",
       "      <td>80.000000</td>\n",
       "      <td>8.000000</td>\n",
       "      <td>6.000000</td>\n",
       "      <td>512.329200</td>\n",
       "    </tr>\n",
       "  </tbody>\n",
       "</table>\n",
       "</div>"
      ],
      "text/plain": [
       "       PassengerId    Survived      Pclass         Age       SibSp  \\\n",
       "count   891.000000  891.000000  891.000000  714.000000  891.000000   \n",
       "mean    446.000000    0.383838    2.308642   29.699118    0.523008   \n",
       "std     257.353842    0.486592    0.836071   14.526497    1.102743   \n",
       "min       1.000000    0.000000    1.000000    0.420000    0.000000   \n",
       "25%     223.500000    0.000000    2.000000   20.125000    0.000000   \n",
       "50%     446.000000    0.000000    3.000000   28.000000    0.000000   \n",
       "75%     668.500000    1.000000    3.000000   38.000000    1.000000   \n",
       "max     891.000000    1.000000    3.000000   80.000000    8.000000   \n",
       "\n",
       "            Parch        Fare  \n",
       "count  891.000000  891.000000  \n",
       "mean     0.381594   32.204208  \n",
       "std      0.806057   49.693429  \n",
       "min      0.000000    0.000000  \n",
       "25%      0.000000    7.910400  \n",
       "50%      0.000000   14.454200  \n",
       "75%      0.000000   31.000000  \n",
       "max      6.000000  512.329200  "
      ]
     },
     "execution_count": 259,
     "metadata": {},
     "output_type": "execute_result"
    }
   ],
   "source": [
    "train.describe()"
   ]
  },
  {
   "cell_type": "markdown",
   "id": "cf507cf9",
   "metadata": {},
   "source": [
    "Количество пропусков"
   ]
  },
  {
   "cell_type": "code",
   "execution_count": 260,
   "id": "d7ba9f96",
   "metadata": {
    "scrolled": false
   },
   "outputs": [
    {
     "data": {
      "text/plain": [
       "PassengerId      0\n",
       "Survived         0\n",
       "Pclass           0\n",
       "Name             0\n",
       "Sex              0\n",
       "Age            177\n",
       "SibSp            0\n",
       "Parch            0\n",
       "Ticket           0\n",
       "Fare             0\n",
       "Cabin          687\n",
       "Embarked         2\n",
       "dtype: int64"
      ]
     },
     "execution_count": 260,
     "metadata": {},
     "output_type": "execute_result"
    }
   ],
   "source": [
    "train.isnull().sum()"
   ]
  },
  {
   "cell_type": "code",
   "execution_count": 261,
   "id": "f84639f5",
   "metadata": {
    "scrolled": false
   },
   "outputs": [
    {
     "data": {
      "text/plain": [
       "PassengerId      0\n",
       "Pclass           0\n",
       "Name             0\n",
       "Sex              0\n",
       "Age             86\n",
       "SibSp            0\n",
       "Parch            0\n",
       "Ticket           0\n",
       "Fare             1\n",
       "Cabin          327\n",
       "Embarked         0\n",
       "dtype: int64"
      ]
     },
     "execution_count": 261,
     "metadata": {},
     "output_type": "execute_result"
    }
   ],
   "source": [
    "test.isnull().sum()"
   ]
  },
  {
   "cell_type": "markdown",
   "id": "be462c18",
   "metadata": {},
   "source": [
    "Тип признака (категориальные, текстовые, числовые)"
   ]
  },
  {
   "cell_type": "code",
   "execution_count": 262,
   "id": "7e9a651d",
   "metadata": {
    "scrolled": true
   },
   "outputs": [
    {
     "data": {
      "text/plain": [
       "PassengerId      int64\n",
       "Survived         int64\n",
       "Pclass           int64\n",
       "Name            object\n",
       "Sex             object\n",
       "Age            float64\n",
       "SibSp            int64\n",
       "Parch            int64\n",
       "Ticket          object\n",
       "Fare           float64\n",
       "Cabin           object\n",
       "Embarked        object\n",
       "dtype: object"
      ]
     },
     "execution_count": 262,
     "metadata": {},
     "output_type": "execute_result"
    }
   ],
   "source": [
    "train.dtypes"
   ]
  },
  {
   "cell_type": "markdown",
   "id": "59640b07",
   "metadata": {},
   "source": [
    "Категориальные: Survived, Pclass, Sex, Embarked.\n",
    "Текстовые: Name\n",
    "Числовые: Age, Fare, SibSp, Parch."
   ]
  },
  {
   "cell_type": "markdown",
   "id": "684bf588",
   "metadata": {},
   "source": [
    "Числовые: Age, Fare, SibSp, Parch"
   ]
  },
  {
   "cell_type": "markdown",
   "id": "21471968",
   "metadata": {},
   "source": [
    "Для категориальных данных определить уникальные значения"
   ]
  },
  {
   "cell_type": "code",
   "execution_count": 263,
   "id": "b1a3d958",
   "metadata": {},
   "outputs": [
    {
     "name": "stdout",
     "output_type": "stream",
     "text": [
      "0    549\n",
      "1    342\n",
      "Name: Survived, dtype: int64\n",
      "3    491\n",
      "1    216\n",
      "2    184\n",
      "Name: Pclass, dtype: int64\n",
      "male      577\n",
      "female    314\n",
      "Name: Sex, dtype: int64\n",
      "S    644\n",
      "C    168\n",
      "Q     77\n",
      "Name: Embarked, dtype: int64\n"
     ]
    }
   ],
   "source": [
    "train_cat = train[['Survived','Pclass', 'Sex', 'Embarked']]\n",
    "for col in train_cat.columns:\n",
    "    print(train_cat[col].value_counts()) # to print count of every category"
   ]
  },
  {
   "cell_type": "markdown",
   "id": "5807dd5f",
   "metadata": {},
   "source": [
    "Для категориальных данных построить bar plot (plt.bar()), определить признаковое распредение значений"
   ]
  },
  {
   "cell_type": "code",
   "execution_count": 264,
   "id": "149e979a",
   "metadata": {},
   "outputs": [
    {
     "data": {
      "text/plain": [
       "<AxesSubplot:xlabel='Sex'>"
      ]
     },
     "execution_count": 264,
     "metadata": {},
     "output_type": "execute_result"
    },
    {
     "data": {
      "image/png": "[encoded data removed]",
      "text/plain": [
       "<Figure size 432x288 with 1 Axes>"
      ]
     },
     "metadata": {
      "needs_background": "light"
     },
     "output_type": "display_data"
    }
   ],
   "source": [
    "train[['Sex','Survived']].groupby(['Sex']).mean().plot.bar()"
   ]
  },
  {
   "cell_type": "code",
   "execution_count": 265,
   "id": "6e1d9f4e",
   "metadata": {
    "scrolled": true
   },
   "outputs": [
    {
     "data": {
      "image/png": "[encoded data removed]",
      "text/plain": [
       "<Figure size 432x288 with 1 Axes>"
      ]
     },
     "metadata": {
      "needs_background": "light"
     },
     "output_type": "display_data"
    }
   ],
   "source": [
    "ax = train_cat.plot.bar(rot=0)"
   ]
  },
  {
   "cell_type": "markdown",
   "id": "da8fc78b",
   "metadata": {},
   "source": [
    "Для числовых признаков построить гистограмму (plt.hist()), попробовать разное количество бинов (bins) в разбиении. Определить тип распределения(равномерный, нормальный ...)"
   ]
  },
  {
   "cell_type": "code",
   "execution_count": 266,
   "id": "fd3f5c1f",
   "metadata": {
    "scrolled": false
   },
   "outputs": [
    {
     "data": {
      "text/plain": [
       "array([[<AxesSubplot:title={'center':'Age'}>]], dtype=object)"
      ]
     },
     "execution_count": 266,
     "metadata": {},
     "output_type": "execute_result"
    },
    {
     "data": {
      "image/png": "[encoded data removed]",
      "text/plain": [
       "<Figure size 432x288 with 1 Axes>"
      ]
     },
     "metadata": {
      "needs_background": "light"
     },
     "output_type": "display_data"
    }
   ],
   "source": [
    "train.hist(column='Age', bins = 8)"
   ]
  },
  {
   "cell_type": "markdown",
   "id": "5dba6be0",
   "metadata": {},
   "source": [
    "нормальное распределение"
   ]
  },
  {
   "cell_type": "code",
   "execution_count": 267,
   "id": "3c986485",
   "metadata": {
    "scrolled": false
   },
   "outputs": [
    {
     "data": {
      "text/plain": [
       "array([[<AxesSubplot:title={'center':'Fare'}>]], dtype=object)"
      ]
     },
     "execution_count": 267,
     "metadata": {},
     "output_type": "execute_result"
    },
    {
     "data": {
      "image/png": "[encoded data removed]",
      "text/plain": [
       "<Figure size 432x288 with 1 Axes>"
      ]
     },
     "metadata": {
      "needs_background": "light"
     },
     "output_type": "display_data"
    }
   ],
   "source": [
    "train.hist(column='Fare', bins = 20)"
   ]
  },
  {
   "cell_type": "code",
   "execution_count": 268,
   "id": "c4ee8072",
   "metadata": {},
   "outputs": [
    {
     "data": {
      "text/plain": [
       "array([[<AxesSubplot:title={'center':'SibSp'}>]], dtype=object)"
      ]
     },
     "execution_count": 268,
     "metadata": {},
     "output_type": "execute_result"
    },
    {
     "data": {
      "image/png": "[encoded data removed]",
      "text/plain": [
       "<Figure size 432x288 with 1 Axes>"
      ]
     },
     "metadata": {
      "needs_background": "light"
     },
     "output_type": "display_data"
    }
   ],
   "source": [
    "train.hist(column='SibSp', bins = 10)"
   ]
  },
  {
   "cell_type": "code",
   "execution_count": 269,
   "id": "c3c88b45",
   "metadata": {
    "scrolled": false
   },
   "outputs": [
    {
     "data": {
      "text/plain": [
       "array([[<AxesSubplot:title={'center':'Parch'}>]], dtype=object)"
      ]
     },
     "execution_count": 269,
     "metadata": {},
     "output_type": "execute_result"
    },
    {
     "data": {
      "image/png": "[encoded data removed]",
      "text/plain": [
       "<Figure size 432x288 with 1 Axes>"
      ]
     },
     "metadata": {
      "needs_background": "light"
     },
     "output_type": "display_data"
    }
   ],
   "source": [
    "train.hist(column='Parch', bins = 10)"
   ]
  },
  {
   "cell_type": "markdown",
   "id": "ef21c1a9",
   "metadata": {},
   "source": [
    "экспоненциальное распределение"
   ]
  },
  {
   "cell_type": "markdown",
   "id": "bcfbf9f5",
   "metadata": {},
   "source": [
    "### 3. Препроцессинг данных. Для каждого признака необходимо:"
   ]
  },
  {
   "cell_type": "code",
   "execution_count": 270,
   "id": "70616e10",
   "metadata": {},
   "outputs": [],
   "source": [
    "train1 = pd.read_csv('train.csv')\n",
    "\n",
    "test1 = pd.read_csv('test.csv')"
   ]
  },
  {
   "cell_type": "markdown",
   "id": "ebb137a0",
   "metadata": {},
   "source": [
    "Заменить пропуски"
   ]
  },
  {
   "cell_type": "markdown",
   "id": "6e53f1d5",
   "metadata": {},
   "source": [
    "Пропуски в train: Age, Cabin, Embarked. Cabin имеет много пропусков и не связан с выживаемостью, так что с ним не работаем.\n",
    "В test: Age, Fare, Cabin. Здесь также пропускаем Cabin. "
   ]
  },
  {
   "cell_type": "code",
   "execution_count": 271,
   "id": "0856fff8",
   "metadata": {},
   "outputs": [],
   "source": [
    "from sklearn.ensemble import RandomForestClassifier"
   ]
  },
  {
   "cell_type": "markdown",
   "id": "46b66dad",
   "metadata": {},
   "source": [
    "Для Age и Fare применим замену медианой."
   ]
  },
  {
   "cell_type": "code",
   "execution_count": 272,
   "id": "dd493f3e",
   "metadata": {},
   "outputs": [],
   "source": [
    "train['Age'].fillna(train['Age'].mean(), inplace = True)\n",
    "test['Age'].fillna(test['Age'].median(), inplace = True)\n",
    "test['Fare'].fillna(test['Fare'].median(), inplace = True)"
   ]
  },
  {
   "cell_type": "markdown",
   "id": "ae55b9fb",
   "metadata": {},
   "source": [
    "Для Embarked - самым частым"
   ]
  },
  {
   "cell_type": "code",
   "execution_count": 273,
   "id": "fb3616fa",
   "metadata": {},
   "outputs": [],
   "source": [
    "train['Embarked'].fillna(train['Embarked'].mode()[0], inplace = True)"
   ]
  },
  {
   "cell_type": "markdown",
   "id": "c9900d64",
   "metadata": {},
   "source": [
    "Для категориальных текстовых признаков получить категориальные числовые (признак Sex). Попробовать из sklearn LabelEncoder и OneHotEncoder (на выбор)"
   ]
  },
  {
   "cell_type": "code",
   "execution_count": 274,
   "id": "911e1575",
   "metadata": {},
   "outputs": [],
   "source": [
    "from sklearn.preprocessing import LabelEncoder"
   ]
  },
  {
   "cell_type": "code",
   "execution_count": 275,
   "id": "c67cf824",
   "metadata": {},
   "outputs": [],
   "source": [
    "train['Sex'] = pd.Series(LabelEncoder().fit_transform(train['Sex'].astype('str')))\n",
    "test['Sex'] = pd.Series(LabelEncoder().fit_transform(test['Sex'].astype('str')))"
   ]
  },
  {
   "cell_type": "code",
   "execution_count": 276,
   "id": "2453a471",
   "metadata": {},
   "outputs": [],
   "source": [
    "train['Embarked'] = pd.Series(LabelEncoder().fit_transform(train['Embarked'].astype('str')))\n",
    "test['Embarked'] = pd.Series(LabelEncoder().fit_transform(test['Embarked'].astype('str')))"
   ]
  },
  {
   "cell_type": "markdown",
   "id": "990180b7",
   "metadata": {},
   "source": [
    "Нормализация (sklearn):"
   ]
  },
  {
   "cell_type": "code",
   "execution_count": 277,
   "id": "70f08bfb",
   "metadata": {},
   "outputs": [],
   "source": [
    "from sklearn.preprocessing import StandardScaler"
   ]
  },
  {
   "cell_type": "code",
   "execution_count": 278,
   "id": "946dadfa",
   "metadata": {
    "scrolled": true
   },
   "outputs": [],
   "source": [
    "#train = train.drop(columns = ['PassengerId', 'Name','Ticket', 'Cabin'])\n",
    "train = train.drop(columns = ['Name','Ticket', 'Cabin'])\n",
    "test = test.drop(columns = ['Name','Ticket', 'Cabin'])"
   ]
  },
  {
   "cell_type": "code",
   "execution_count": 279,
   "id": "c04f6290",
   "metadata": {
    "scrolled": true
   },
   "outputs": [],
   "source": [
    "num_cols = train[['Age', 'Fare']].columns"
   ]
  },
  {
   "cell_type": "code",
   "execution_count": 280,
   "id": "cbe091e0",
   "metadata": {},
   "outputs": [
    {
     "data": {
      "text/html": [
       "<div>\n",
       "<style scoped>\n",
       "    .dataframe tbody tr th:only-of-type {\n",
       "        vertical-align: middle;\n",
       "    }\n",
       "\n",
       "    .dataframe tbody tr th {\n",
       "        vertical-align: top;\n",
       "    }\n",
       "\n",
       "    .dataframe thead th {\n",
       "        text-align: right;\n",
       "    }\n",
       "</style>\n",
       "<table border=\"1\" class=\"dataframe\">\n",
       "  <thead>\n",
       "    <tr style=\"text-align: right;\">\n",
       "      <th></th>\n",
       "      <th>Age</th>\n",
       "      <th>Fare</th>\n",
       "    </tr>\n",
       "  </thead>\n",
       "  <tbody>\n",
       "    <tr>\n",
       "      <th>count</th>\n",
       "      <td>891.000000</td>\n",
       "      <td>891.000000</td>\n",
       "    </tr>\n",
       "    <tr>\n",
       "      <th>mean</th>\n",
       "      <td>29.699118</td>\n",
       "      <td>32.204208</td>\n",
       "    </tr>\n",
       "    <tr>\n",
       "      <th>std</th>\n",
       "      <td>13.002015</td>\n",
       "      <td>49.693429</td>\n",
       "    </tr>\n",
       "    <tr>\n",
       "      <th>min</th>\n",
       "      <td>0.420000</td>\n",
       "      <td>0.000000</td>\n",
       "    </tr>\n",
       "    <tr>\n",
       "      <th>25%</th>\n",
       "      <td>22.000000</td>\n",
       "      <td>7.910400</td>\n",
       "    </tr>\n",
       "    <tr>\n",
       "      <th>50%</th>\n",
       "      <td>29.699118</td>\n",
       "      <td>14.454200</td>\n",
       "    </tr>\n",
       "    <tr>\n",
       "      <th>75%</th>\n",
       "      <td>35.000000</td>\n",
       "      <td>31.000000</td>\n",
       "    </tr>\n",
       "    <tr>\n",
       "      <th>max</th>\n",
       "      <td>80.000000</td>\n",
       "      <td>512.329200</td>\n",
       "    </tr>\n",
       "  </tbody>\n",
       "</table>\n",
       "</div>"
      ],
      "text/plain": [
       "              Age        Fare\n",
       "count  891.000000  891.000000\n",
       "mean    29.699118   32.204208\n",
       "std     13.002015   49.693429\n",
       "min      0.420000    0.000000\n",
       "25%     22.000000    7.910400\n",
       "50%     29.699118   14.454200\n",
       "75%     35.000000   31.000000\n",
       "max     80.000000  512.329200"
      ]
     },
     "execution_count": 280,
     "metadata": {},
     "output_type": "execute_result"
    }
   ],
   "source": [
    "train[num_cols].describe()"
   ]
  },
  {
   "cell_type": "code",
   "execution_count": 281,
   "id": "672395f1",
   "metadata": {
    "scrolled": true
   },
   "outputs": [
    {
     "data": {
      "text/html": [
       "<div>\n",
       "<style scoped>\n",
       "    .dataframe tbody tr th:only-of-type {\n",
       "        vertical-align: middle;\n",
       "    }\n",
       "\n",
       "    .dataframe tbody tr th {\n",
       "        vertical-align: top;\n",
       "    }\n",
       "\n",
       "    .dataframe thead th {\n",
       "        text-align: right;\n",
       "    }\n",
       "</style>\n",
       "<table border=\"1\" class=\"dataframe\">\n",
       "  <thead>\n",
       "    <tr style=\"text-align: right;\">\n",
       "      <th></th>\n",
       "      <th>Age</th>\n",
       "      <th>Fare</th>\n",
       "    </tr>\n",
       "  </thead>\n",
       "  <tbody>\n",
       "    <tr>\n",
       "      <th>count</th>\n",
       "      <td>8.910000e+02</td>\n",
       "      <td>8.910000e+02</td>\n",
       "    </tr>\n",
       "    <tr>\n",
       "      <th>mean</th>\n",
       "      <td>2.562796e-16</td>\n",
       "      <td>-4.373606e-17</td>\n",
       "    </tr>\n",
       "    <tr>\n",
       "      <th>std</th>\n",
       "      <td>1.000562e+00</td>\n",
       "      <td>1.000562e+00</td>\n",
       "    </tr>\n",
       "    <tr>\n",
       "      <th>min</th>\n",
       "      <td>-2.253155e+00</td>\n",
       "      <td>-6.484217e-01</td>\n",
       "    </tr>\n",
       "    <tr>\n",
       "      <th>25%</th>\n",
       "      <td>-5.924806e-01</td>\n",
       "      <td>-4.891482e-01</td>\n",
       "    </tr>\n",
       "    <tr>\n",
       "      <th>50%</th>\n",
       "      <td>0.000000e+00</td>\n",
       "      <td>-3.573909e-01</td>\n",
       "    </tr>\n",
       "    <tr>\n",
       "      <th>75%</th>\n",
       "      <td>4.079260e-01</td>\n",
       "      <td>-2.424635e-02</td>\n",
       "    </tr>\n",
       "    <tr>\n",
       "      <th>max</th>\n",
       "      <td>3.870872e+00</td>\n",
       "      <td>9.667167e+00</td>\n",
       "    </tr>\n",
       "  </tbody>\n",
       "</table>\n",
       "</div>"
      ],
      "text/plain": [
       "                Age          Fare\n",
       "count  8.910000e+02  8.910000e+02\n",
       "mean   2.562796e-16 -4.373606e-17\n",
       "std    1.000562e+00  1.000562e+00\n",
       "min   -2.253155e+00 -6.484217e-01\n",
       "25%   -5.924806e-01 -4.891482e-01\n",
       "50%    0.000000e+00 -3.573909e-01\n",
       "75%    4.079260e-01 -2.424635e-02\n",
       "max    3.870872e+00  9.667167e+00"
      ]
     },
     "execution_count": 281,
     "metadata": {},
     "output_type": "execute_result"
    }
   ],
   "source": [
    "ss = StandardScaler()\n",
    "train[num_cols] = ss.fit_transform(train[num_cols])\n",
    "train[num_cols].describe()"
   ]
  },
  {
   "cell_type": "code",
   "execution_count": 282,
   "id": "10d33783",
   "metadata": {},
   "outputs": [
    {
     "data": {
      "text/html": [
       "<div>\n",
       "<style scoped>\n",
       "    .dataframe tbody tr th:only-of-type {\n",
       "        vertical-align: middle;\n",
       "    }\n",
       "\n",
       "    .dataframe tbody tr th {\n",
       "        vertical-align: top;\n",
       "    }\n",
       "\n",
       "    .dataframe thead th {\n",
       "        text-align: right;\n",
       "    }\n",
       "</style>\n",
       "<table border=\"1\" class=\"dataframe\">\n",
       "  <thead>\n",
       "    <tr style=\"text-align: right;\">\n",
       "      <th></th>\n",
       "      <th>Age</th>\n",
       "      <th>Fare</th>\n",
       "    </tr>\n",
       "  </thead>\n",
       "  <tbody>\n",
       "    <tr>\n",
       "      <th>count</th>\n",
       "      <td>4.180000e+02</td>\n",
       "      <td>4.180000e+02</td>\n",
       "    </tr>\n",
       "    <tr>\n",
       "      <th>mean</th>\n",
       "      <td>8.698518e-17</td>\n",
       "      <td>8.154030e-17</td>\n",
       "    </tr>\n",
       "    <tr>\n",
       "      <th>std</th>\n",
       "      <td>1.001198e+00</td>\n",
       "      <td>1.001198e+00</td>\n",
       "    </tr>\n",
       "    <tr>\n",
       "      <th>min</th>\n",
       "      <td>-2.319355e+00</td>\n",
       "      <td>-6.377637e-01</td>\n",
       "    </tr>\n",
       "    <tr>\n",
       "      <th>25%</th>\n",
       "      <td>-5.200968e-01</td>\n",
       "      <td>-4.962194e-01</td>\n",
       "    </tr>\n",
       "    <tr>\n",
       "      <th>50%</th>\n",
       "      <td>-2.048523e-01</td>\n",
       "      <td>-3.786501e-01</td>\n",
       "    </tr>\n",
       "    <tr>\n",
       "      <th>75%</th>\n",
       "      <td>4.847449e-01</td>\n",
       "      <td>-7.358230e-02</td>\n",
       "    </tr>\n",
       "    <tr>\n",
       "      <th>max</th>\n",
       "      <td>3.656893e+00</td>\n",
       "      <td>8.546519e+00</td>\n",
       "    </tr>\n",
       "  </tbody>\n",
       "</table>\n",
       "</div>"
      ],
      "text/plain": [
       "                Age          Fare\n",
       "count  4.180000e+02  4.180000e+02\n",
       "mean   8.698518e-17  8.154030e-17\n",
       "std    1.001198e+00  1.001198e+00\n",
       "min   -2.319355e+00 -6.377637e-01\n",
       "25%   -5.200968e-01 -4.962194e-01\n",
       "50%   -2.048523e-01 -3.786501e-01\n",
       "75%    4.847449e-01 -7.358230e-02\n",
       "max    3.656893e+00  8.546519e+00"
      ]
     },
     "execution_count": 282,
     "metadata": {},
     "output_type": "execute_result"
    }
   ],
   "source": [
    "ss = StandardScaler()\n",
    "test[num_cols] = ss.fit_transform(test[num_cols])\n",
    "test[num_cols].describe()"
   ]
  },
  {
   "cell_type": "markdown",
   "id": "ff937ede",
   "metadata": {},
   "source": [
    "4. Разбить данные для обучения на тренировочную и валидационную выборки. Для оценки качества модели необходимо проверить полученную модель на валидационных данных (train_test_split(X, y, random_state=42, stratify=y, test_size=20))"
   ]
  },
  {
   "cell_type": "code",
   "execution_count": 283,
   "id": "9e20571e",
   "metadata": {},
   "outputs": [],
   "source": [
    "from sklearn.model_selection import train_test_split"
   ]
  },
  {
   "cell_type": "code",
   "execution_count": 284,
   "id": "4a7456b3",
   "metadata": {},
   "outputs": [],
   "source": [
    "train2, val = train_test_split(train, test_size=20)"
   ]
  },
  {
   "cell_type": "markdown",
   "id": "4d7acb0a",
   "metadata": {},
   "source": [
    "5.\n",
    "\n",
    "Обучить на предобработанных данных следующие модели:"
   ]
  },
  {
   "cell_type": "markdown",
   "id": "0550a87f",
   "metadata": {},
   "source": [
    "Логистическая регрессия (LogisticRegression)"
   ]
  },
  {
   "cell_type": "code",
   "execution_count": 363,
   "id": "2b25fb68",
   "metadata": {},
   "outputs": [],
   "source": [
    "from sklearn.linear_model import LogisticRegression\n",
    "from sklearn.svm import SVC, LinearSVC\n",
    "from sklearn.ensemble import RandomForestClassifier\n",
    "from sklearn.neighbors import KNeighborsClassifier\n",
    "from sklearn.naive_bayes import GaussianNB\n",
    "from sklearn.tree import DecisionTreeClassifier\n",
    "from sklearn.ensemble import GradientBoostingClassifier\n",
    "\n",
    "from sklearn.metrics import accuracy_score\n",
    "from sklearn.metrics import classification_report"
   ]
  },
  {
   "cell_type": "code",
   "execution_count": 323,
   "id": "ddd8fe90",
   "metadata": {},
   "outputs": [],
   "source": [
    "X_train, X_test, Y_train, Y_test = train_test_split(train.drop(['Survived'],axis=1), \n",
    "                                                    train['Survived'], test_size=0.10, \n",
    "                                                    random_state=101)"
   ]
  },
  {
   "cell_type": "code",
   "execution_count": 324,
   "id": "aaaa0f45",
   "metadata": {},
   "outputs": [
    {
     "data": {
      "text/html": [
       "<div>\n",
       "<style scoped>\n",
       "    .dataframe tbody tr th:only-of-type {\n",
       "        vertical-align: middle;\n",
       "    }\n",
       "\n",
       "    .dataframe tbody tr th {\n",
       "        vertical-align: top;\n",
       "    }\n",
       "\n",
       "    .dataframe thead th {\n",
       "        text-align: right;\n",
       "    }\n",
       "</style>\n",
       "<table border=\"1\" class=\"dataframe\">\n",
       "  <thead>\n",
       "    <tr style=\"text-align: right;\">\n",
       "      <th></th>\n",
       "      <th>PassengerId</th>\n",
       "      <th>Pclass</th>\n",
       "      <th>Sex</th>\n",
       "      <th>Age</th>\n",
       "      <th>SibSp</th>\n",
       "      <th>Parch</th>\n",
       "      <th>Fare</th>\n",
       "      <th>Embarked</th>\n",
       "    </tr>\n",
       "  </thead>\n",
       "  <tbody>\n",
       "    <tr>\n",
       "      <th>331</th>\n",
       "      <td>332</td>\n",
       "      <td>1</td>\n",
       "      <td>1</td>\n",
       "      <td>1.215947</td>\n",
       "      <td>0</td>\n",
       "      <td>0</td>\n",
       "      <td>-0.074583</td>\n",
       "      <td>2</td>\n",
       "    </tr>\n",
       "    <tr>\n",
       "      <th>700</th>\n",
       "      <td>701</td>\n",
       "      <td>1</td>\n",
       "      <td>0</td>\n",
       "      <td>-0.900298</td>\n",
       "      <td>1</td>\n",
       "      <td>0</td>\n",
       "      <td>3.932723</td>\n",
       "      <td>0</td>\n",
       "    </tr>\n",
       "    <tr>\n",
       "      <th>748</th>\n",
       "      <td>749</td>\n",
       "      <td>1</td>\n",
       "      <td>1</td>\n",
       "      <td>-0.823344</td>\n",
       "      <td>1</td>\n",
       "      <td>0</td>\n",
       "      <td>0.420730</td>\n",
       "      <td>2</td>\n",
       "    </tr>\n",
       "    <tr>\n",
       "      <th>751</th>\n",
       "      <td>752</td>\n",
       "      <td>3</td>\n",
       "      <td>1</td>\n",
       "      <td>-1.823750</td>\n",
       "      <td>0</td>\n",
       "      <td>1</td>\n",
       "      <td>-0.397241</td>\n",
       "      <td>2</td>\n",
       "    </tr>\n",
       "    <tr>\n",
       "      <th>481</th>\n",
       "      <td>482</td>\n",
       "      <td>2</td>\n",
       "      <td>1</td>\n",
       "      <td>0.000000</td>\n",
       "      <td>0</td>\n",
       "      <td>0</td>\n",
       "      <td>-0.648422</td>\n",
       "      <td>2</td>\n",
       "    </tr>\n",
       "  </tbody>\n",
       "</table>\n",
       "</div>"
      ],
      "text/plain": [
       "     PassengerId  Pclass  Sex       Age  SibSp  Parch      Fare  Embarked\n",
       "331          332       1    1  1.215947      0      0 -0.074583         2\n",
       "700          701       1    0 -0.900298      1      0  3.932723         0\n",
       "748          749       1    1 -0.823344      1      0  0.420730         2\n",
       "751          752       3    1 -1.823750      0      1 -0.397241         2\n",
       "481          482       2    1  0.000000      0      0 -0.648422         2"
      ]
     },
     "execution_count": 324,
     "metadata": {},
     "output_type": "execute_result"
    }
   ],
   "source": [
    "logmodel = LogisticRegression(max_iter=1000)\n",
    "logmodel.fit(X_train,Y_train)\n",
    "predictions = logmodel.predict(X_test)"
   ]
  },
  {
   "cell_type": "code",
   "execution_count": 326,
   "id": "2906602b",
   "metadata": {},
   "outputs": [
    {
     "name": "stdout",
     "output_type": "stream",
     "text": [
      "[[45  6]\n",
      " [12 27]]\n"
     ]
    }
   ],
   "source": [
    "print(confusion_matrix(Y_test,predictions))"
   ]
  },
  {
   "cell_type": "code",
   "execution_count": 327,
   "id": "ec4afd77",
   "metadata": {
    "scrolled": true
   },
   "outputs": [
    {
     "name": "stdout",
     "output_type": "stream",
     "text": [
      "              precision    recall  f1-score   support\n",
      "\n",
      "           0       0.79      0.88      0.83        51\n",
      "           1       0.82      0.69      0.75        39\n",
      "\n",
      "    accuracy                           0.80        90\n",
      "   macro avg       0.80      0.79      0.79        90\n",
      "weighted avg       0.80      0.80      0.80        90\n",
      "\n"
     ]
    }
   ],
   "source": [
    "print(classification_report(Y_test,predictions))"
   ]
  },
  {
   "cell_type": "markdown",
   "id": "7d71d67d",
   "metadata": {},
   "source": [
    "Машины опорных векторов (SVC)"
   ]
  },
  {
   "cell_type": "code",
   "execution_count": 318,
   "id": "7af8c9ce",
   "metadata": {},
   "outputs": [
    {
     "data": {
      "text/plain": [
       "62.17"
      ]
     },
     "execution_count": 318,
     "metadata": {},
     "output_type": "execute_result"
    }
   ],
   "source": [
    "svc = SVC()\n",
    "svc.fit(X_train, Y_train)\n",
    "Y_pred = svc.predict(X_test)\n",
    "acc_svc = round(svc.score(X_train, Y_train) * 100, 2)\n",
    "acc_svc"
   ]
  },
  {
   "cell_type": "code",
   "execution_count": 320,
   "id": "e6ef55ba",
   "metadata": {
    "scrolled": false
   },
   "outputs": [
    {
     "name": "stdout",
     "output_type": "stream",
     "text": [
      "              precision    recall  f1-score   support\n",
      "\n",
      "           0       0.57      1.00      0.72        51\n",
      "           1       0.00      0.00      0.00        39\n",
      "\n",
      "    accuracy                           0.57        90\n",
      "   macro avg       0.28      0.50      0.36        90\n",
      "weighted avg       0.32      0.57      0.41        90\n",
      "\n"
     ]
    },
    {
     "name": "stderr",
     "output_type": "stream",
     "text": [
      "C:\\Users\\lenov\\anaconda3\\lib\\site-packages\\sklearn\\metrics\\_classification.py:1318: UndefinedMetricWarning: Precision and F-score are ill-defined and being set to 0.0 in labels with no predicted samples. Use `zero_division` parameter to control this behavior.\n",
      "  _warn_prf(average, modifier, msg_start, len(result))\n",
      "C:\\Users\\lenov\\anaconda3\\lib\\site-packages\\sklearn\\metrics\\_classification.py:1318: UndefinedMetricWarning: Precision and F-score are ill-defined and being set to 0.0 in labels with no predicted samples. Use `zero_division` parameter to control this behavior.\n",
      "  _warn_prf(average, modifier, msg_start, len(result))\n",
      "C:\\Users\\lenov\\anaconda3\\lib\\site-packages\\sklearn\\metrics\\_classification.py:1318: UndefinedMetricWarning: Precision and F-score are ill-defined and being set to 0.0 in labels with no predicted samples. Use `zero_division` parameter to control this behavior.\n",
      "  _warn_prf(average, modifier, msg_start, len(result))\n"
     ]
    }
   ],
   "source": [
    "print(classification_report(Y_test,Y_pred))"
   ]
  },
  {
   "cell_type": "code",
   "execution_count": 322,
   "id": "23a181af",
   "metadata": {},
   "outputs": [
    {
     "name": "stdout",
     "output_type": "stream",
     "text": [
      "[[51  0]\n",
      " [39  0]]\n"
     ]
    }
   ],
   "source": [
    "print(confusion_matrix(Y_test,Y_pred))"
   ]
  },
  {
   "cell_type": "markdown",
   "id": "04ffe3e9",
   "metadata": {},
   "source": [
    "Метод ближайших соседей (KNeighborsClassifier)"
   ]
  },
  {
   "cell_type": "code",
   "execution_count": 354,
   "id": "f3f28199",
   "metadata": {},
   "outputs": [
    {
     "data": {
      "text/plain": [
       "78.4"
      ]
     },
     "execution_count": 354,
     "metadata": {},
     "output_type": "execute_result"
    }
   ],
   "source": [
    "knn = KNeighborsClassifier(n_neighbors = 3)\n",
    "knn.fit(X_train, Y_train)\n",
    "Y_pred = knn.predict(X_test)\n",
    "acc_knn = round(knn.score(X_train, Y_train) * 100, 2)\n",
    "acc_knn"
   ]
  },
  {
   "cell_type": "code",
   "execution_count": 355,
   "id": "03edad0a",
   "metadata": {},
   "outputs": [
    {
     "name": "stdout",
     "output_type": "stream",
     "text": [
      "              precision    recall  f1-score   support\n",
      "\n",
      "           0       0.51      0.69      0.58        51\n",
      "           1       0.24      0.13      0.17        39\n",
      "\n",
      "    accuracy                           0.44        90\n",
      "   macro avg       0.37      0.41      0.38        90\n",
      "weighted avg       0.39      0.44      0.40        90\n",
      "\n"
     ]
    }
   ],
   "source": [
    "print(classification_report(Y_test,Y_pred))"
   ]
  },
  {
   "cell_type": "code",
   "execution_count": 356,
   "id": "d76fd309",
   "metadata": {},
   "outputs": [
    {
     "name": "stdout",
     "output_type": "stream",
     "text": [
      "[[35 16]\n",
      " [34  5]]\n"
     ]
    }
   ],
   "source": [
    "print(confusion_matrix(Y_test,Y_pred))"
   ]
  },
  {
   "cell_type": "markdown",
   "id": "46474a18",
   "metadata": {},
   "source": [
    "Наивый байес (GaussianNB)"
   ]
  },
  {
   "cell_type": "code",
   "execution_count": 333,
   "id": "3648d54b",
   "metadata": {},
   "outputs": [
    {
     "data": {
      "text/plain": [
       "79.15"
      ]
     },
     "execution_count": 333,
     "metadata": {},
     "output_type": "execute_result"
    }
   ],
   "source": [
    "gaussian = GaussianNB()\n",
    "gaussian.fit(X_train, Y_train)\n",
    "Y_pred = gaussian.predict(X_test)\n",
    "acc_gaussian = round(gaussian.score(X_train, Y_train) * 100, 2)\n",
    "acc_gaussian"
   ]
  },
  {
   "cell_type": "code",
   "execution_count": 334,
   "id": "58516791",
   "metadata": {},
   "outputs": [
    {
     "name": "stdout",
     "output_type": "stream",
     "text": [
      "              precision    recall  f1-score   support\n",
      "\n",
      "           0       0.80      0.88      0.84        51\n",
      "           1       0.82      0.72      0.77        39\n",
      "\n",
      "    accuracy                           0.81        90\n",
      "   macro avg       0.81      0.80      0.80        90\n",
      "weighted avg       0.81      0.81      0.81        90\n",
      "\n"
     ]
    }
   ],
   "source": [
    "print(classification_report(Y_test,Y_pred))"
   ]
  },
  {
   "cell_type": "code",
   "execution_count": 335,
   "id": "8c767824",
   "metadata": {},
   "outputs": [
    {
     "name": "stdout",
     "output_type": "stream",
     "text": [
      "[[45  6]\n",
      " [11 28]]\n"
     ]
    }
   ],
   "source": [
    "print(confusion_matrix(Y_test,Y_pred))"
   ]
  },
  {
   "cell_type": "markdown",
   "id": "3971dd5b",
   "metadata": {},
   "source": [
    "Дерево решений (DecisionTreeClassifier)"
   ]
  },
  {
   "cell_type": "code",
   "execution_count": 336,
   "id": "f6c9e840",
   "metadata": {},
   "outputs": [
    {
     "data": {
      "text/plain": [
       "100.0"
      ]
     },
     "execution_count": 336,
     "metadata": {},
     "output_type": "execute_result"
    }
   ],
   "source": [
    "decision_tree = DecisionTreeClassifier()\n",
    "decision_tree.fit(X_train, Y_train)\n",
    "Y_pred = decision_tree.predict(X_test)\n",
    "acc_decision_tree = round(decision_tree.score(X_train, Y_train) * 100, 2)\n",
    "acc_decision_tree"
   ]
  },
  {
   "cell_type": "code",
   "execution_count": 338,
   "id": "e71ae9dc",
   "metadata": {},
   "outputs": [
    {
     "name": "stdout",
     "output_type": "stream",
     "text": [
      "              precision    recall  f1-score   support\n",
      "\n",
      "           0       0.75      0.88      0.81        51\n",
      "           1       0.80      0.62      0.70        39\n",
      "\n",
      "    accuracy                           0.77        90\n",
      "   macro avg       0.78      0.75      0.75        90\n",
      "weighted avg       0.77      0.77      0.76        90\n",
      "\n"
     ]
    }
   ],
   "source": [
    "print(classification_report(Y_test,Y_pred))"
   ]
  },
  {
   "cell_type": "code",
   "execution_count": 339,
   "id": "2ad3c090",
   "metadata": {},
   "outputs": [
    {
     "name": "stdout",
     "output_type": "stream",
     "text": [
      "[[45  6]\n",
      " [15 24]]\n"
     ]
    }
   ],
   "source": [
    "print(confusion_matrix(Y_test,Y_pred))"
   ]
  },
  {
   "cell_type": "markdown",
   "id": "33677c59",
   "metadata": {},
   "source": [
    "Случайный лес (RandomForestClassifier)"
   ]
  },
  {
   "cell_type": "code",
   "execution_count": 376,
   "id": "297700c8",
   "metadata": {},
   "outputs": [
    {
     "data": {
      "text/plain": [
       "100.0"
      ]
     },
     "execution_count": 376,
     "metadata": {},
     "output_type": "execute_result"
    }
   ],
   "source": [
    "random_forest = RandomForestClassifier(n_estimators=1000)\n",
    "random_forest.fit(X_train, Y_train)\n",
    "Y_pred = random_forest.predict(X_test)\n",
    "random_forest.score(X_train, Y_train)\n",
    "acc_random_forest = round(random_forest.score(X_train, Y_train) * 100, 2)\n",
    "acc_random_forest"
   ]
  },
  {
   "cell_type": "code",
   "execution_count": 360,
   "id": "7710ebed",
   "metadata": {},
   "outputs": [
    {
     "name": "stdout",
     "output_type": "stream",
     "text": [
      "              precision    recall  f1-score   support\n",
      "\n",
      "           0       0.76      0.92      0.83        51\n",
      "           1       0.86      0.62      0.72        39\n",
      "\n",
      "    accuracy                           0.79        90\n",
      "   macro avg       0.81      0.77      0.77        90\n",
      "weighted avg       0.80      0.79      0.78        90\n",
      "\n"
     ]
    }
   ],
   "source": [
    "print(classification_report(Y_test,Y_pred))"
   ]
  },
  {
   "cell_type": "code",
   "execution_count": 361,
   "id": "d5a2051f",
   "metadata": {},
   "outputs": [
    {
     "name": "stdout",
     "output_type": "stream",
     "text": [
      "[[47  4]\n",
      " [15 24]]\n"
     ]
    }
   ],
   "source": [
    "print(confusion_matrix(Y_test,Y_pred))"
   ]
  },
  {
   "cell_type": "markdown",
   "id": "34954c43",
   "metadata": {},
   "source": [
    "Градиентный бустинг (GradientBoostingClassifier)"
   ]
  },
  {
   "cell_type": "code",
   "execution_count": null,
   "id": "12fa6f2d",
   "metadata": {},
   "outputs": [],
   "source": [
    "my_model1 = XGBClassifier(random_state = 11)\n",
    "my_model1.fit(X_train, y_train)\n",
    "\n",
    "preds = my_model1.predict(X_test)\n",
    "acc = (accuracy_score(y_test, preds))* 100\n",
    "print(f'Accuracy Score: {acc:.2f}%')"
   ]
  },
  {
   "cell_type": "code",
   "execution_count": 364,
   "id": "993d91f3",
   "metadata": {},
   "outputs": [
    {
     "data": {
      "text/plain": [
       "91.76"
      ]
     },
     "execution_count": 364,
     "metadata": {},
     "output_type": "execute_result"
    }
   ],
   "source": [
    "gbrt = GradientBoostingClassifier(random_state=0)\n",
    "gbrt.fit(X_train, Y_train)\n",
    "Y_pred = gbrt.predict(X_test)\n",
    "gbrt.score(X_train, Y_train)\n",
    "acc_grbt = round(gbrt.score(X_train, Y_train) * 100, 2)\n",
    "acc_grbt"
   ]
  },
  {
   "cell_type": "code",
   "execution_count": 365,
   "id": "16b918ab",
   "metadata": {},
   "outputs": [
    {
     "name": "stdout",
     "output_type": "stream",
     "text": [
      "              precision    recall  f1-score   support\n",
      "\n",
      "           0       0.78      0.96      0.86        51\n",
      "           1       0.93      0.64      0.76        39\n",
      "\n",
      "    accuracy                           0.82        90\n",
      "   macro avg       0.85      0.80      0.81        90\n",
      "weighted avg       0.84      0.82      0.82        90\n",
      "\n"
     ]
    }
   ],
   "source": [
    "print(classification_report(Y_test,Y_pred))"
   ]
  },
  {
   "cell_type": "code",
   "execution_count": 366,
   "id": "edd4fde5",
   "metadata": {},
   "outputs": [
    {
     "name": "stdout",
     "output_type": "stream",
     "text": [
      "[[49  2]\n",
      " [14 25]]\n"
     ]
    }
   ],
   "source": [
    "print(confusion_matrix(Y_test,Y_pred))"
   ]
  },
  {
   "cell_type": "markdown",
   "id": "7c9f6230",
   "metadata": {},
   "source": [
    "## 6. Получить лучший результ на kaggle.com"
   ]
  },
  {
   "cell_type": "code",
   "execution_count": null,
   "id": "6d1ca882",
   "metadata": {},
   "outputs": [],
   "source": [
    "# https://www.kaggle.com/code/fatmakursun/titanic-classification-models"
   ]
  },
  {
   "cell_type": "code",
   "execution_count": 378,
   "id": "4cb508c9",
   "metadata": {},
   "outputs": [],
   "source": [
    "test_prediction = random_forest.predict(test)\n",
    "test_prediction = [ 1 if y>=0.5 else 0 for y in test_prediction]"
   ]
  },
  {
   "cell_type": "code",
   "execution_count": 379,
   "id": "9e98c86c",
   "metadata": {},
   "outputs": [],
   "source": [
    "test_pred = pd.DataFrame(test_prediction, columns= ['Survived'])"
   ]
  },
  {
   "cell_type": "code",
   "execution_count": 380,
   "id": "7c855d1e",
   "metadata": {},
   "outputs": [],
   "source": [
    "new_test = pd.concat([test, test_pred], axis=1, join='inner')"
   ]
  },
  {
   "cell_type": "code",
   "execution_count": 381,
   "id": "a8d2fbd8",
   "metadata": {},
   "outputs": [],
   "source": [
    "df= new_test[['PassengerId' ,'Survived']]"
   ]
  },
  {
   "cell_type": "code",
   "execution_count": 382,
   "id": "22b23306",
   "metadata": {},
   "outputs": [],
   "source": [
    "df.to_csv('predictions.csv' , index=False)"
   ]
  },
  {
   "cell_type": "code",
   "execution_count": null,
   "id": "35405047",
   "metadata": {},
   "outputs": [],
   "source": []
  }
 ],
 "metadata": {
  "kernelspec": {
   "display_name": "Python 3 (ipykernel)",
   "language": "python",
   "name": "python3"
  },
  "language_info": {
   "codemirror_mode": {
    "name": "ipython",
    "version": 3
   },
   "file_extension": ".py",
   "mimetype": "text/x-python",
   "name": "python",
   "nbconvert_exporter": "python",
   "pygments_lexer": "ipython3",
   "version": "3.9.12"
  }
 },
 "nbformat": 4,
 "nbformat_minor": 5
}
